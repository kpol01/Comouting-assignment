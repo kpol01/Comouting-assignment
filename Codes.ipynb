{
 "cells": [
  {
   "cell_type": "code",
   "execution_count": 1,
   "id": "d080fe72-cfa6-4b84-bee3-9068ee5c5a18",
   "metadata": {},
   "outputs": [],
   "source": [
    "library(ggplot2)\n",
    "library(Deriv)\n",
    "library(orthopolynom)"
   ]
  },
  {
   "cell_type": "code",
   "execution_count": 2,
   "id": "7744b646-59f7-4de4-8a16-205703be0711",
   "metadata": {},
   "outputs": [],
   "source": [
    "rangexp=function(u,n=10){\n",
    "  n*exp(-u)*((1-exp(-u))^(n-1))\n",
    "}\n",
    "\n",
    "f <- function(x) {\n",
    "  rangexp(x, n = n_val)\n",
    "}"
   ]
  },
  {
   "cell_type": "code",
   "execution_count": 3,
   "id": "c7961034-8f3d-4e27-b46b-49fd4f35ed3f",
   "metadata": {},
   "outputs": [],
   "source": [
    "#---Sample generator---\n",
    "rangesamp=function(m,n=10){\n",
    "  mat=matrix(rexp(m*(n+1),rate=1),nr=m)\n",
    "  return(apply(mat,MARGIN = 1,FUN = function(x){return(max(x)-min(x))}))\n",
    "}"
   ]
  },
  {
   "cell_type": "markdown",
   "id": "f4e507fa-bbaf-44d6-95fc-a8693344873d",
   "metadata": {},
   "source": [
    "# Kernel Density Estimation"
   ]
  },
  {
   "cell_type": "code",
   "execution_count": 4,
   "id": "1cd85d50-ff4a-4588-846d-6f9e06a2e6cf",
   "metadata": {},
   "outputs": [],
   "source": [
    "x <- rangesamp(m = 500)\n",
    "bw_ls <- bw.ucv(x)\n",
    "dens <- density(x, bw = bw_ls, kernel = \"gaussian\")\n",
    "\n",
    "# Create a data frame for the kernel density estimate\n",
    "df_kernel <- data.frame(x = dens$x, density = dens$y)"
   ]
  },
  {
   "cell_type": "code",
   "execution_count": 5,
   "id": "80973766-a435-4109-85fb-929a81520900",
   "metadata": {},
   "outputs": [],
   "source": [
    "# Create a grid for the exact density and compute it using rangexp\n",
    "grid_x <- seq(0, 10, length.out = 1000)\n",
    "df_exact <- data.frame(x = grid_x, density = rangexp(grid_x))"
   ]
  },
  {
   "cell_type": "code",
   "execution_count": 6,
   "id": "53e6d1b3-519b-4b3e-b128-3a5881aefb66",
   "metadata": {},
   "outputs": [
    {
     "data": {
      "image/png": "[encoded data removed]",
      "text/plain": [
       "plot without title"
      ]
     },
     "metadata": {
      "image/png": {
       "height": 420,
       "width": 420
      }
     },
     "output_type": "display_data"
    }
   ],
   "source": [
    "# Build the ggplot with filled areas, matching borders, and legend on top\n",
    "p <- ggplot() +\n",
    "  geom_area(data = df_kernel, \n",
    "            aes(x = x, y = density, fill = \"Kernel Density\", color = \"Kernel Density\"), \n",
    "            alpha = 0.4, linewidth = 1) +\n",
    "  geom_area(data = df_exact, \n",
    "            aes(x = x, y = density, fill = \"Exact Density\", color = \"Exact Density\"), \n",
    "            alpha = 0.4, linewidth = 1) +\n",
    "  scale_fill_manual(name = \"Density Type\",\n",
    "                    values = c(\"Kernel Density\" = \"#0072B2\", \n",
    "                               \"Exact Density\" = \"#D55E00\")) +\n",
    "  scale_color_manual(name = \"Density Type\",\n",
    "                     values = c(\"Kernel Density\" = \"#0072B2\", \n",
    "                                \"Exact Density\" = \"#D55E00\")) +\n",
    "  labs(title = \"Kernel Density Estimate\",\n",
    "       x = \"x\", y = \"Density\") +\n",
    "  coord_cartesian(ylim = c(0, 0.42)) +\n",
    "  theme_minimal(base_size = 14) +\n",
    "  theme(legend.position = \"top\")\n",
    "\n",
    "print(p)"
   ]
  },
  {
   "cell_type": "markdown",
   "id": "f5e17db5-e147-484d-9baf-aa0144d9284a",
   "metadata": {},
   "source": [
    "# Edgeworth Expansions"
   ]
  },
  {
   "cell_type": "code",
   "execution_count": 7,
   "id": "4b0fd0ba-eafa-4819-9ab5-dd810f931199",
   "metadata": {},
   "outputs": [],
   "source": [
    "#--Edgeworth Expansions--\n",
    "# Define the Hermite function\n",
    "hermite_eval <- function(order, x, type = c(\"probabilists\", \"physicists\"), normalized = FALSE) {\n",
    "  type <- match.arg(type)\n",
    "  if (order < 0 || order != floor(order)) {\n",
    "    stop(\"Order must be a nonnegative integer\")\n",
    "  }\n",
    "  \n",
    "  # Generate the polynomials up to the specified order.\n",
    "  # The list will contain polynomials from order 0 to 'order'.\n",
    "  if (type == \"probabilists\") {\n",
    "    polys <- hermite.he.polynomials(n = order, normalized = normalized)\n",
    "  } else {\n",
    "    polys <- hermite.h.polynomials(n = order, normalized = normalized)\n",
    "  }\n",
    "  \n",
    "  # Evaluate each polynomial at the point(s) x.\n",
    "  # The polynomial of the desired order is at index order + 1.\n",
    "  eval_list <- polynomial.values(polynomials = polys, x = x)\n",
    "  result <- eval_list[[order + 1]]\n",
    "  return(result)\n",
    "}\n",
    "\n",
    "#-A function for calculating derivatives--\n",
    "cgf=function(t,n=10){\n",
    "  return(sum(sapply(1:n,FUN = function(j){-log(1-(t/j))})))\n",
    "}\n",
    "\n",
    "cgfk=function(t,k,n=10){\n",
    "  return(factorial(k-1)*mean(sapply(1:n,FUN = function(j){1/((j-t)^k)})))\n",
    "}"
   ]
  },
  {
   "cell_type": "code",
   "execution_count": 8,
   "id": "f158a24b-3815-4261-93f5-2dd4bbb850ea",
   "metadata": {},
   "outputs": [],
   "source": [
    "den.edge <- function(y, n = 10) {\n",
    "  # Compute location and scale adjustments\n",
    "  mun <- sum(sapply(1:n, function(j) { 1/j }))\n",
    "  sigman <- sqrt(sum(sapply(1:n, function(j) { 1/(j^2) })))\n",
    "  \n",
    "  # Standardize input y\n",
    "  z <- (y - mun) / sigman\n",
    "  \n",
    "  # Cumulant generating function helper\n",
    "  #K\n",
    "  cgfk <- function(t, k) {\n",
    "    factorial(k - 1) * mean(sapply(1:n, function(j) { (j - t)^(-k) }))\n",
    "  }\n",
    "  \n",
    "  # Standardized cumulant estimator rho\n",
    "  rho <- function(r) {\n",
    "    cgfk(t = 0, k = r) / (cgfk(t = 0, k = 2)^(r / 2))\n",
    "  }\n",
    "  \n",
    "  # Evaluate probabilists' Hermite polynomials at z\n",
    "  H3 <- hermite_eval(order = 3, x = z, type = \"probabilists\")\n",
    "  H4 <- hermite_eval(order = 4, x = z, type = \"probabilists\")\n",
    "  H6 <- hermite_eval(order = 6, x = z, type = \"probabilists\")\n",
    "  \n",
    "  # Compute the density with Edgeworth expansion correction\n",
    "  result <- dnorm(z) * (1 + (rho(3) * H3 / (6 * sqrt(n))) +\n",
    "                          (rho(4) * H4 / (24 * n)) +\n",
    "                          ((rho(3)^2) * H6 / (72 * n))) / sigman\n",
    "  \n",
    "  # Replace negative values with 0\n",
    "  result <- pmax(result, 0)\n",
    "  \n",
    "  return(result)\n",
    "}"
   ]
  },
  {
   "cell_type": "code",
   "execution_count": 9,
   "id": "8ce0d65f-0af0-490b-80df-49a7b8ee62e7",
   "metadata": {},
   "outputs": [],
   "source": [
    "# Set parameter value and grid\n",
    "n_val <- 10\n",
    "gridp <- seq(0, 10, length.out = 10000)\n",
    "\n",
    "# Compute densities:\n",
    "df_edge <- data.frame(\n",
    "  x = gridp,\n",
    "  density = den.edge(gridp, n = n_val),\n",
    "  Method = \"Edgeworth Expansion\"\n",
    ")\n",
    "\n",
    "df_exact <- data.frame(\n",
    "  x = gridp,\n",
    "  density = rangexp(gridp, n = n_val),\n",
    "  Method = \"Exact Density\"\n",
    ")"
   ]
  },
  {
   "cell_type": "code",
   "execution_count": 10,
   "id": "282fe6fb-0895-4772-8165-9cb4f5f2afe2",
   "metadata": {},
   "outputs": [
    {
     "data": {
      "image/png": "[encoded data removed]",
      "text/plain": [
       "plot without title"
      ]
     },
     "metadata": {
      "image/png": {
       "height": 420,
       "width": 420
      }
     },
     "output_type": "display_data"
    }
   ],
   "source": [
    "# Build the ggplot with filled areas and matching borders\n",
    "p <- ggplot() +\n",
    "  geom_area(data = df_edge, \n",
    "            aes(x = x, y = density, fill = \"Edgeworth Expansion\", color = \"Edgeworth Expansion\"),\n",
    "            alpha = 0.4, linewidth = 1) +\n",
    "  geom_area(data = df_exact, \n",
    "            aes(x = x, y = density, fill = \"Exact Density\", color = \"Exact Density\"),\n",
    "            alpha = 0.4, linewidth = 1) +\n",
    "  scale_fill_manual(name = \"Density Type\",\n",
    "                    values = c(\"Edgeworth Expansion\" = \"purple\",\n",
    "                               \"Exact Density\" = \"#D55E00\")) +\n",
    "  scale_color_manual(name = \"Density Type\",\n",
    "                     values = c(\"Edgeworth Expansion\" = \"purple\",\n",
    "                                \"Exact Density\" = \"#D55E00\")) +\n",
    "  labs(x = \"x\", y = \"Density\") +\n",
    "  theme_minimal(base_size = 14) +\n",
    "  theme(legend.position = \"top\")\n",
    "\n",
    "print(p)"
   ]
  },
  {
   "cell_type": "markdown",
   "id": "4d33eb94-95ef-40b8-9638-1e95ba116ba2",
   "metadata": {},
   "source": [
    "# Saddle Approximation 1"
   ]
  },
  {
   "cell_type": "code",
   "execution_count": 11,
   "id": "336d8dea-8936-420a-ad9d-4eeae9761a28",
   "metadata": {},
   "outputs": [],
   "source": [
    "den.saddle1 <- function(x0, n = 10) {\n",
    "  # Cumulant generating function\n",
    "  cgf <- function(t) {\n",
    "    sum(-log(1 - t / (1:n)))\n",
    "  }\n",
    "  \n",
    "  # Second derivative of CGF\n",
    "  cgfk2 <- function(t) {\n",
    "    sum((1:n - t)^(-2))\n",
    "  }\n",
    "  \n",
    "  # Compute density for each x0\n",
    "  result <- sapply(x0, function(x) {\n",
    "    # Saddlepoint equation: K'(t) - x = 0\n",
    "    f <- function(t) sum(1 / (1:n - t)) - x\n",
    "    \n",
    "    # Find root in (-Inf, 1)\n",
    "    t_0 <- tryCatch(\n",
    "      uniroot(f, c(-1e6, 1 - 1e-6))$root,\n",
    "      error = function(e) NA\n",
    "    )\n",
    "    \n",
    "    if (is.na(t_0)) return(NA)\n",
    "    \n",
    "    # Saddlepoint approximation formula\n",
    "    exp(cgf(t_0) - t_0 * x) / sqrt(2 * pi * cgfk2(t_0))\n",
    "  })\n",
    "  \n",
    "  return(result)\n",
    "}"
   ]
  },
  {
   "cell_type": "code",
   "execution_count": 12,
   "id": "41e9dc02-6f4e-4590-a548-3fae8a42270b",
   "metadata": {},
   "outputs": [],
   "source": [
    "options(warn=-1)\n",
    "#---Saddle Point approximations 1----\n",
    "# Compute densities:\n",
    "df_saddle <- data.frame(\n",
    "  x = gridp,\n",
    "  density = den.saddle1(gridp, n = n_val),\n",
    "  Method = \"Saddlepoint Approximation 1\"\n",
    ")"
   ]
  },
  {
   "cell_type": "code",
   "execution_count": 13,
   "id": "bb6b5c7f-c974-4a7c-a6d0-001465d65554",
   "metadata": {},
   "outputs": [
    {
     "data": {
      "image/png": "[encoded data removed]",
      "text/plain": [
       "plot without title"
      ]
     },
     "metadata": {
      "image/png": {
       "height": 420,
       "width": 420
      }
     },
     "output_type": "display_data"
    }
   ],
   "source": [
    "# Build the ggplot with filled areas and matching borders\n",
    "p <- ggplot() +\n",
    "  geom_area(data = df_saddle, \n",
    "            aes(x = x, y = density, fill = \"Saddlepoint Approximation 1\", color = \"Saddlepoint Approximation 1\"), \n",
    "            alpha = 0.4, linewidth = 1) +\n",
    "  geom_area(data = df_exact, \n",
    "            aes(x = x, y = density, fill = \"Exact Density\", color = \"Exact Density\"), \n",
    "            alpha = 0.4, linewidth = 1) +\n",
    "  scale_fill_manual(name = \"Density Type\",\n",
    "                    values = c(\"Saddlepoint Approximation 1\" = \"lightgreen\", \n",
    "                               \"Exact Density\" = \"#D55E00\")) +\n",
    "  scale_color_manual(name = \"Density Type\",\n",
    "                     values = c(\"Saddlepoint Approximation 1\" = \"lightgreen\", \n",
    "                                \"Exact Density\" = \"#D55E00\")) +\n",
    "  labs(x = \"x\", y = \"Density\") +\n",
    "  coord_cartesian(ylim = c(0, max(c(df_saddle$density, df_exact$density)))) +\n",
    "  theme_minimal(base_size = 14) +\n",
    "  theme(legend.position = \"top\")\n",
    "\n",
    "print(p)"
   ]
  },
  {
   "cell_type": "markdown",
   "id": "0c8d44a9-c697-48f4-acb7-0481ba01e12e",
   "metadata": {},
   "source": [
    "# Saddle Approximation 2 "
   ]
  },
  {
   "cell_type": "code",
   "execution_count": 14,
   "id": "0b57a269-8ec2-4385-a35a-2f8595dc19c6",
   "metadata": {},
   "outputs": [],
   "source": [
    "den.saddle2 <- function(x0, n = 10) {\n",
    "  # Cumulant generating function\n",
    "  #nK\n",
    "  cgf <- function(t) {\n",
    "    sum(-log(1 - t / (1:n)))\n",
    "  }\n",
    "  \n",
    "  #K\n",
    "  cgfk <- function(t, k) {\n",
    "    factorial(k - 1) * mean(sapply(1:n, function(j) { (j - t)^(-k) }))\n",
    "  }\n",
    "  \n",
    "  \n",
    "  rho <- function(t,r) {\n",
    "    n*cgfk(t = t, k = r) / ((cgfk(t = t, k = 2)*n)^(r / 2))\n",
    "  }\n",
    "  \n",
    "  # Compute density for each x0\n",
    "  result <- sapply(x0, function(x) {\n",
    "    # Saddlepoint equation: K'(t) - x = 0\n",
    "    f <- function(t) sum(1 / (1:n - t)) - x\n",
    "    \n",
    "    # Find root in (-Inf, 1)\n",
    "    t_0 <- tryCatch(\n",
    "      uniroot(f, c(-1e6, 1 - 1e-6))$root,\n",
    "      error = function(e) NA\n",
    "    )\n",
    "    \n",
    "    if (is.na(t_0)) return(NA)\n",
    "    \n",
    "    # Saddlepoint approximation formula\n",
    "    (exp(cgf(t_0) - t_0 * x) / sqrt(2 * pi *n* cgfk(t=t_0,k=2)))*(1+((3*rho(t=t_0,r=4)-5*rho(t=t_0,r=3)^2)/(24*n)))\n",
    "  })\n",
    "  \n",
    "  return(result)\n",
    "}"
   ]
  },
  {
   "cell_type": "code",
   "execution_count": 15,
   "id": "70798e5e-7b6d-47cc-9b74-5ec7604e6f8f",
   "metadata": {},
   "outputs": [],
   "source": [
    "options(warn=-1)\n",
    "# Compute densities\n",
    "df_saddle2 <- data.frame(\n",
    "  x = gridp,\n",
    "  density = den.saddle2(gridp, n = n_val),\n",
    "  Method = \"Saddlepoint Approximation 2\"\n",
    ")\n",
    "\n",
    "df_exact <- data.frame(\n",
    "  x = gridp,\n",
    "  density = rangexp(gridp, n = n_val),\n",
    "  Method = \"Exact Density\"\n",
    ")"
   ]
  },
  {
   "cell_type": "code",
   "execution_count": 16,
   "id": "a70d0f35-46b3-40ec-9ab9-7e9b176fd2bd",
   "metadata": {},
   "outputs": [
    {
     "data": {
      "image/png": "[encoded data removed]",
      "text/plain": [
       "plot without title"
      ]
     },
     "metadata": {
      "image/png": {
       "height": 420,
       "width": 420
      }
     },
     "output_type": "display_data"
    }
   ],
   "source": [
    "# Build the ggplot with filled areas and matching borders\n",
    "p <- ggplot() +\n",
    "  geom_area(data = df_saddle2, \n",
    "            aes(x = x, y = density, fill = \"Saddlepoint Approximation 2\", color = \"Saddlepoint Approximation 2\"),\n",
    "            alpha = 0.4, linewidth = 1) +\n",
    "  geom_area(data = df_exact, \n",
    "            aes(x = x, y = density, fill = \"Exact Density\", color = \"Exact Density\"),\n",
    "            alpha = 0.4, linewidth = 1) +\n",
    "  scale_fill_manual(name = \"Density Type\",\n",
    "                    values = c(\"Saddlepoint Approximation 2\" = \"tomato\", \n",
    "                               \"Exact Density\" = \"#D55E00\")) +\n",
    "  scale_color_manual(name = \"Density Type\",\n",
    "                     values = c(\"Saddlepoint Approximation 2\" = \"tomato\", \n",
    "                                \"Exact Density\" = \"#D55E00\")) +\n",
    "  labs(x = \"x\", y = \"Density\") +\n",
    "  theme_minimal(base_size = 14) +\n",
    "  theme(legend.position = \"top\",\n",
    "        legend.text = element_text(size = 9),\n",
    "        legend.title = element_text(size = 10),\n",
    "        legend.key.size = unit(0.6, \"lines\"),\n",
    "        plot.title = element_text(size = 11))\n",
    "\n",
    "print(p)"
   ]
  }
 ],
 "metadata": {
  "kernelspec": {
   "display_name": "R",
   "language": "R",
   "name": "ir"
  },
  "language_info": {
   "codemirror_mode": "r",
   "file_extension": ".r",
   "mimetype": "text/x-r-source",
   "name": "R",
   "pygments_lexer": "r",
   "version": "4.3.3"
  }
 },
 "nbformat": 4,
 "nbformat_minor": 5
}
